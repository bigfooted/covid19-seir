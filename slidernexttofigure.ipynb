{
 "cells": [
  {
   "cell_type": "code",
   "execution_count": 3,
   "metadata": {},
   "outputs": [
    {
     "data": {
      "application/vnd.jupyter.widget-view+json": {
       "model_id": "3cc68f5e206944a5a5ec898263d6be54",
       "version_major": 2,
       "version_minor": 0
      },
      "text/plain": [
       "HBox(children=(Output(layout=Layout(height='300px', width='300px')), IntSlider(value=0, max=180, min=-180, ori…"
      ]
     },
     "metadata": {},
     "output_type": "display_data"
    }
   ],
   "source": [
    "from IPython.display import display, clear_output\n",
    "from ipywidgets import interact, fixed, IntSlider, HBox, Layout, Output, VBox, HTML\n",
    "import numpy as np \n",
    "import matplotlib.pyplot as plt\n",
    "%matplotlib inline\n",
    "\n",
    "def rotate(theta, xs, ys):\n",
    "    new_xs = xs * np.cos(np.deg2rad(theta)) - ys * np.sin(np.deg2rad(theta))\n",
    "    new_xs -= new_xs.min()\n",
    "    new_ys = xs * np.sin(np.deg2rad(theta)) + ys * np.cos(np.deg2rad(theta))\n",
    "    new_ys -= new_ys.min()\n",
    "    return new_xs, new_ys\n",
    "\n",
    "out = Output(layout={'width': '300px', 'height': '300px'})\n",
    "\n",
    "def update_plot(change): \n",
    "    theta = change['new'] # new slider value \n",
    "    with out: \n",
    "        clear_output(wait=True)\n",
    "        fig = plt.figure(figsize=(4,4))\n",
    "        ax = fig.add_subplot(111)\n",
    "        scat, = ax.plot(xs, ys, 'kx', markersize=1)\n",
    "        ax.grid(which='both', color='.25', lw=.1)\n",
    "        ax.set_aspect('equal'), \n",
    "        ax.set_title('Rotate')\n",
    "        new_xs, new_ys = rotate(theta, xs, ys) \n",
    "        scat.set_xdata(new_xs), scat.set_ydata(new_ys)\n",
    "        #ax.set_xlim(new_xs.min() - 500, new_xs.max() + 500)\n",
    "        #ax.set_ylim(new_ys.min() - 500, new_ys.max() + 500)\n",
    "        \n",
    "        plt.show()\n",
    "\n",
    "xs = np.random.randint(0, 5000, 50) \n",
    "ys = np.random.randint(0, 5000, 50) \n",
    "\n",
    "textbox = HTML(\n",
    "    value=\"Hello <b>World</b>\",\n",
    "    #placeholder='Some HTML',\n",
    "    #description='Some HTML',\n",
    ")\n",
    "\n",
    "slider = IntSlider(min=-180, max=180, step=5, value=0, orientation='vertical') \n",
    "slider.observe(update_plot, 'value')\n",
    "update_plot({'new': slider.value}) \n",
    "\n",
    "display(HBox([out, slider, textbox]))"
   ]
  },
  {
   "cell_type": "code",
   "execution_count": null,
   "metadata": {},
   "outputs": [],
   "source": []
  }
 ],
 "metadata": {
  "kernelspec": {
   "display_name": "Python 3",
   "language": "python",
   "name": "python3"
  },
  "language_info": {
   "codemirror_mode": {
    "name": "ipython",
    "version": 3
   },
   "file_extension": ".py",
   "mimetype": "text/x-python",
   "name": "python",
   "nbconvert_exporter": "python",
   "pygments_lexer": "ipython3",
   "version": "3.7.4"
  }
 },
 "nbformat": 4,
 "nbformat_minor": 4
}
