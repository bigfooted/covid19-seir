{
 "cells": [
  {
   "cell_type": "code",
   "execution_count": 26,
   "metadata": {},
   "outputs": [],
   "source": [
    "from IPython.display import display, HTML\n",
    "from ipywidgets import interact, interactive, fixed, interact_manual\n",
    "import ipywidgets as widgets\n",
    "from ipywidgets import *\n",
    "import pandas as pd\n",
    "pd.set_option('display.max_colwidth', -1)\n",
    "import warnings\n",
    "warnings.filterwarnings('ignore')\n",
    "import string"
   ]
  },
  {
   "cell_type": "code",
   "execution_count": 27,
   "metadata": {},
   "outputs": [
    {
     "data": {
      "text/html": [
       "<div>\n",
       "<style scoped>\n",
       "    .dataframe tbody tr th:only-of-type {\n",
       "        vertical-align: middle;\n",
       "    }\n",
       "\n",
       "    .dataframe tbody tr th {\n",
       "        vertical-align: top;\n",
       "    }\n",
       "\n",
       "    .dataframe thead th {\n",
       "        text-align: right;\n",
       "    }\n",
       "</style>\n",
       "<table border=\"1\" class=\"dataframe\">\n",
       "  <thead>\n",
       "    <tr style=\"text-align: right;\">\n",
       "      <th></th>\n",
       "      <th>image_url</th>\n",
       "      <th>sport</th>\n",
       "    </tr>\n",
       "  </thead>\n",
       "  <tbody>\n",
       "    <tr>\n",
       "      <td>0</td>\n",
       "      <td>coronavirus_cropped.jpg</td>\n",
       "      <td>header</td>\n",
       "    </tr>\n",
       "    <tr>\n",
       "      <td>1</td>\n",
       "      <td>coronavirus_cropped.jpg</td>\n",
       "      <td>footer</td>\n",
       "    </tr>\n",
       "    <tr>\n",
       "      <td>2</td>\n",
       "      <td>coronavirus_cropped.jpg</td>\n",
       "      <td>footer</td>\n",
       "    </tr>\n",
       "    <tr>\n",
       "      <td>3</td>\n",
       "      <td>coronavirus_cropped.jpg</td>\n",
       "      <td>header</td>\n",
       "    </tr>\n",
       "    <tr>\n",
       "      <td>4</td>\n",
       "      <td>coronavirus_cropped.jpg</td>\n",
       "      <td>header</td>\n",
       "    </tr>\n",
       "  </tbody>\n",
       "</table>\n",
       "</div>"
      ],
      "text/plain": [
       "                 image_url   sport\n",
       "0  coronavirus_cropped.jpg  header\n",
       "1  coronavirus_cropped.jpg  footer\n",
       "2  coronavirus_cropped.jpg  footer\n",
       "3  coronavirus_cropped.jpg  header\n",
       "4  coronavirus_cropped.jpg  header"
      ]
     },
     "execution_count": 27,
     "metadata": {},
     "output_type": "execute_result"
    }
   ],
   "source": [
    "# read in dataframe\n",
    "sports_df = pd.read_csv('~/images.csv')\n",
    "sports_df.head()"
   ]
  },
  {
   "cell_type": "code",
   "execution_count": 28,
   "metadata": {},
   "outputs": [],
   "source": [
    "def path_to_image_html(path):\n",
    "    return '<img src=\"'+ path + '\" style=max-height:124px;\"/>'"
   ]
  },
  {
   "cell_type": "code",
   "execution_count": 29,
   "metadata": {},
   "outputs": [],
   "source": [
    "def show_im():\n",
    "    CSS = \"\"\"\n",
    "    .output {\n",
    "        flex-direction: row;\n",
    "    }\n",
    "    \"\"\"\n",
    "    \n",
    "    HTML('<style>{}</style>'.format(CSS))"
   ]
  },
  {
   "cell_type": "code",
   "execution_count": 30,
   "metadata": {},
   "outputs": [
    {
     "data": {
      "text/plain": [
       "<bound method DataFrame.info of                  image_url   sport\n",
       "0  coronavirus_cropped.jpg  header\n",
       "1  coronavirus_cropped.jpg  footer\n",
       "2  coronavirus_cropped.jpg  footer\n",
       "3  coronavirus_cropped.jpg  header\n",
       "4  coronavirus_cropped.jpg  header\n",
       "5  coronavirus_cropped.jpg  footer\n",
       "6  coronavirus_cropped.jpg  footer\n",
       "7  coronavirus_cropped.jpg  header>"
      ]
     },
     "execution_count": 30,
     "metadata": {},
     "output_type": "execute_result"
    }
   ],
   "source": [
    "sports_df.info"
   ]
  },
  {
   "cell_type": "code",
   "execution_count": 31,
   "metadata": {},
   "outputs": [],
   "source": [
    "def image_viewer(grid_length, grid_width, sport):\n",
    "    \n",
    "    print(sports_df['sport'])\n",
    "    \n",
    "    images_df = sports_df[sports_df['sport'] == sport]  # filter by sport input\n",
    "    image_grid = images_df['image_url']\n",
    "    image_grid_size = grid_length + grid_width\n",
    "    image_grid = image_grid.iloc[0:image_grid_size] # size of grid \n",
    "    image_grid = image_grid.as_matrix() #turn into matrix for reshaping\n",
    "    image_grid = image_grid.reshape(grid_length, grid_width) \n",
    "    image_grid = pd.DataFrame(image_grid)\n",
    "    image_grid.columns = list(string.ascii_lowercase[:len(image_grid.columns)])    \n",
    "    image_grid_html = HTML(image_grid.to_html(escape=False ,formatters=dict(a=path_to_image_html, b=path_to_image_html)))    \n",
    "    display(image_grid_html)\n",
    "    show_im()"
   ]
  },
  {
   "cell_type": "code",
   "execution_count": 32,
   "metadata": {},
   "outputs": [
    {
     "data": {
      "application/vnd.jupyter.widget-view+json": {
       "model_id": "70d91a827f0c44f29eed7150d8dde3d9",
       "version_major": 2,
       "version_minor": 0
      },
      "text/plain": [
       "Tab(children=(VBox(children=(IntSlider(value=2, description='grid_length', max=6, min=-2), IntSlider(value=2, …"
      ]
     },
     "metadata": {},
     "output_type": "display_data"
    }
   ],
   "source": [
    "sport_list = ['header', 'footer']  # list of sports#define widgets\n",
    "display_widget = widgets.Dropdown(options=sport_list)#create tabs\n",
    "tab_nest = widgets.Tab()\n",
    "tab_nest.set_title(0, 'Sports Images')#interact function in isolation\n",
    "f1 = interactive(image_viewer, grid_length=2, grid_width=2, sport=display_widget);tab_nest.children = [VBox(children = f1.children)]\n",
    "display(tab_nest)"
   ]
  },
  {
   "cell_type": "code",
   "execution_count": 23,
   "metadata": {},
   "outputs": [
    {
     "name": "stdout",
     "output_type": "stream",
     "text": [
      "                 image_url   sport\n",
      "0  coronavirus_cropped.jpg  header\n",
      "1  coronavirus_cropped.jpg  footer\n",
      "2  coronavirus_cropped.jpg  footer\n",
      "3  coronavirus_cropped.jpg  header\n"
     ]
    }
   ],
   "source": [
    "print(sports_df)"
   ]
  },
  {
   "cell_type": "code",
   "execution_count": 59,
   "metadata": {},
   "outputs": [
    {
     "data": {
      "text/html": [
       "<div>\n",
       "<style scoped>\n",
       "    .dataframe tbody tr th:only-of-type {\n",
       "        vertical-align: middle;\n",
       "    }\n",
       "\n",
       "    .dataframe tbody tr th {\n",
       "        vertical-align: top;\n",
       "    }\n",
       "\n",
       "    .dataframe thead th {\n",
       "        text-align: right;\n",
       "    }\n",
       "</style>\n",
       "<table border=\"1\" class=\"dataframe\">\n",
       "  <thead>\n",
       "    <tr style=\"text-align: right;\">\n",
       "      <th></th>\n",
       "      <th>image_url</th>\n",
       "      <th>sport</th>\n",
       "    </tr>\n",
       "  </thead>\n",
       "  <tbody>\n",
       "    <tr>\n",
       "      <td>0</td>\n",
       "      <td>coronavirus_cropped.jpg</td>\n",
       "      <td>header</td>\n",
       "    </tr>\n",
       "    <tr>\n",
       "      <td>1</td>\n",
       "      <td>coronavirus_cropped.jpg</td>\n",
       "      <td>footer</td>\n",
       "    </tr>\n",
       "  </tbody>\n",
       "</table>\n",
       "</div>"
      ],
      "text/plain": [
       "                 image_url    sport\n",
       "0  coronavirus_cropped.jpg   header\n",
       "1  coronavirus_cropped.jpg   footer"
      ]
     },
     "execution_count": 59,
     "metadata": {},
     "output_type": "execute_result"
    }
   ],
   "source": [
    "sports_df.head()"
   ]
  },
  {
   "cell_type": "code",
   "execution_count": 60,
   "metadata": {},
   "outputs": [
    {
     "data": {
      "text/html": [
       "<div>\n",
       "<style scoped>\n",
       "    .dataframe tbody tr th:only-of-type {\n",
       "        vertical-align: middle;\n",
       "    }\n",
       "\n",
       "    .dataframe tbody tr th {\n",
       "        vertical-align: top;\n",
       "    }\n",
       "\n",
       "    .dataframe thead th {\n",
       "        text-align: right;\n",
       "    }\n",
       "</style>\n",
       "<table border=\"1\" class=\"dataframe\">\n",
       "  <thead>\n",
       "    <tr style=\"text-align: right;\">\n",
       "      <th></th>\n",
       "      <th>image_url</th>\n",
       "      <th>sport</th>\n",
       "    </tr>\n",
       "  </thead>\n",
       "  <tbody>\n",
       "    <tr>\n",
       "      <td>0</td>\n",
       "      <td>coronavirus_cropped.jpg</td>\n",
       "      <td>header</td>\n",
       "    </tr>\n",
       "    <tr>\n",
       "      <td>1</td>\n",
       "      <td>coronavirus_cropped.jpg</td>\n",
       "      <td>footer</td>\n",
       "    </tr>\n",
       "  </tbody>\n",
       "</table>\n",
       "</div>"
      ],
      "text/plain": [
       "                 image_url    sport\n",
       "0  coronavirus_cropped.jpg   header\n",
       "1  coronavirus_cropped.jpg   footer"
      ]
     },
     "execution_count": 60,
     "metadata": {},
     "output_type": "execute_result"
    }
   ],
   "source": [
    "sports_df.tail(2)"
   ]
  },
  {
   "cell_type": "code",
   "execution_count": 66,
   "metadata": {},
   "outputs": [
    {
     "name": "stdout",
     "output_type": "stream",
     "text": [
      "<class 'pandas.core.frame.DataFrame'>\n",
      "RangeIndex: 2 entries, 0 to 1\n",
      "Data columns (total 2 columns):\n",
      "image_url    2 non-null object\n",
      "sport        2 non-null object\n",
      "dtypes: object(2)\n",
      "memory usage: 160.0+ bytes\n"
     ]
    }
   ],
   "source": [
    "sports_df.info()"
   ]
  },
  {
   "cell_type": "code",
   "execution_count": 68,
   "metadata": {},
   "outputs": [
    {
     "data": {
      "text/plain": [
       "(2, 2)"
      ]
     },
     "execution_count": 68,
     "metadata": {},
     "output_type": "execute_result"
    }
   ],
   "source": [
    "sports_df.shape"
   ]
  },
  {
   "cell_type": "code",
   "execution_count": 69,
   "metadata": {},
   "outputs": [
    {
     "data": {
      "text/plain": [
       "Index(['image_url', 'sport'], dtype='object')"
      ]
     },
     "execution_count": 69,
     "metadata": {},
     "output_type": "execute_result"
    }
   ],
   "source": [
    "sports_df.columns"
   ]
  },
  {
   "cell_type": "code",
   "execution_count": 24,
   "metadata": {},
   "outputs": [
    {
     "data": {
      "text/plain": [
       "0    header\n",
       "1    footer\n",
       "2    footer\n",
       "3    header\n",
       "Name: sport, dtype: object"
      ]
     },
     "execution_count": 24,
     "metadata": {},
     "output_type": "execute_result"
    }
   ],
   "source": [
    "sports_df['sport']"
   ]
  },
  {
   "cell_type": "code",
   "execution_count": 25,
   "metadata": {},
   "outputs": [
    {
     "data": {
      "text/plain": [
       "0    coronavirus_cropped.jpg\n",
       "1    coronavirus_cropped.jpg\n",
       "2    coronavirus_cropped.jpg\n",
       "3    coronavirus_cropped.jpg\n",
       "Name: image_url, dtype: object"
      ]
     },
     "execution_count": 25,
     "metadata": {},
     "output_type": "execute_result"
    }
   ],
   "source": [
    "sports_df['image_url']"
   ]
  },
  {
   "cell_type": "code",
   "execution_count": null,
   "metadata": {},
   "outputs": [],
   "source": []
  }
 ],
 "metadata": {
  "kernelspec": {
   "display_name": "Python 3",
   "language": "python",
   "name": "python3"
  },
  "language_info": {
   "codemirror_mode": {
    "name": "ipython",
    "version": 3
   },
   "file_extension": ".py",
   "mimetype": "text/x-python",
   "name": "python",
   "nbconvert_exporter": "python",
   "pygments_lexer": "ipython3",
   "version": "3.7.4"
  }
 },
 "nbformat": 4,
 "nbformat_minor": 4
}
