{
 "cells": [
  {
   "cell_type": "code",
   "execution_count": 3,
   "metadata": {},
   "outputs": [
    {
     "data": {
      "application/vnd.jupyter.widget-view+json": {
       "model_id": "17cb6a637d904fe2b53af21f66f29578",
       "version_major": 2,
       "version_minor": 0
      },
      "text/plain": [
       "HTML(value='\\n<style>\\n.container {\\n  position: relative;\\n  text-align: center;\\n  color: white;\\n}\\n</style…"
      ]
     },
     "metadata": {},
     "output_type": "display_data"
    }
   ],
   "source": [
    "from IPython.display import display, clear_output\n",
    "from ipywidgets import interact, fixed, IntSlider, HBox, Layout, Output, VBox, HTML,HTMLMath\n",
    "import numpy as np \n",
    "import matplotlib.pyplot as plt\n",
    "%matplotlib inline\n",
    "\n",
    "HTML(\"\"\"\n",
    "<style>\n",
    ".container {\n",
    "  position: relative;\n",
    "  text-align: center;\n",
    "  color: white;\n",
    "}\n",
    "</style>\n",
    "    \"\"\")\n"
   ]
  },
  {
   "cell_type": "code",
   "execution_count": 5,
   "metadata": {},
   "outputs": [
    {
     "data": {
      "application/vnd.jupyter.widget-view+json": {
       "model_id": "32d4d338662b43df81b37a5ced86433f",
       "version_major": 2,
       "version_minor": 0
      },
      "text/plain": [
       "VBox(children=(HTML(value='\\n<div class=\"container\">\\n<img src=\"https://raw.githubusercontent.com/bigfooted/co…"
      ]
     },
     "metadata": {},
     "output_type": "display_data"
    }
   ],
   "source": [
    "xs = np.random.randint(0, 5000, 50) \n",
    "ys = np.random.randint(0, 5000, 50) \n",
    "\n",
    "\n",
    "def rotate(theta, xs, ys):\n",
    "    new_xs = xs * np.cos(np.deg2rad(theta)) - ys * np.sin(np.deg2rad(theta))\n",
    "    new_xs -= new_xs.min()\n",
    "    new_ys = xs * np.sin(np.deg2rad(theta)) + ys * np.cos(np.deg2rad(theta))\n",
    "    new_ys -= new_ys.min()\n",
    "    return new_xs, new_ys\n",
    "\n",
    "out = Output(layout={'width': '300px', 'height': '300px'})\n",
    "\n",
    "def update_plot(change): \n",
    "    theta = change['new'] # new slider value \n",
    "    with out: \n",
    "        clear_output(wait=True)\n",
    "        fig, (ax,ax2) = plt.subplots(nrows=1, ncols=2, figsize=(12, 6))\n",
    "        \n",
    "        #fig = plt.figure(figsize=(4,4))\n",
    "        \n",
    "        #ax = fig.add_subplot(111)\n",
    "        scat, = ax.plot(xs, ys, 'kx', markersize=1)\n",
    "        \n",
    "        ax.grid(which='both', color='.25', lw=.1)\n",
    "        ax.set_aspect('equal'), \n",
    "        ax.set_title('Rotate')\n",
    "        new_xs, new_ys = rotate(theta, xs, ys) \n",
    "        scat.set_xdata(new_xs), scat.set_ydata(new_ys)\n",
    "        #ax.set_xlim(new_xs.min() - 500, new_xs.max() + 500)\n",
    "        #ax.set_ylim(new_ys.min() - 500, new_ys.max() + 500)\n",
    "        \n",
    "        plt.show()\n",
    "\n",
    "        \n",
    "headertextbox = HTML(value=\"\"\"\n",
    "<div class=\"container\">\n",
    "<img src=\"https://raw.githubusercontent.com/bigfooted/covid19-seir/master/coronavirus_cropped.jpg\" alt=\"corona\" style=\"width:100%;margin:-8px 0px\">\n",
    "   <div class=\"centered\">\n",
    "          <font size=\"10\">\n",
    "       SIR model of a virus outbreak\n",
    "              </font> \n",
    "     </div>\n",
    "</div>\n",
    "    \"\"\")\n",
    "\n",
    "textbox = HTMLMath(\n",
    "value=\"this is $x_a = \\\\beta \\\\alpha$ text with $\\LaTeX$\"\n",
    ")\n",
    "    \n",
    "\n",
    "slider = IntSlider(min=-180, max=180, step=5, value=0, orientation='vertical') \n",
    "slider.observe(update_plot, 'value')\n",
    "update_plot({'new': slider.value}) \n",
    "\n",
    "display(VBox([headertextbox,HBox([out, slider, textbox])]))"
   ]
  },
  {
   "cell_type": "code",
   "execution_count": null,
   "metadata": {},
   "outputs": [],
   "source": []
  }
 ],
 "metadata": {
  "kernelspec": {
   "display_name": "Python 3",
   "language": "python",
   "name": "python3"
  },
  "language_info": {
   "codemirror_mode": {
    "name": "ipython",
    "version": 3
   },
   "file_extension": ".py",
   "mimetype": "text/x-python",
   "name": "python",
   "nbconvert_exporter": "python",
   "pygments_lexer": "ipython3",
   "version": "3.7.4"
  }
 },
 "nbformat": 4,
 "nbformat_minor": 4
}
