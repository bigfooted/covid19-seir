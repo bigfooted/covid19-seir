{
 "cells": [
  {
   "cell_type": "code",
   "execution_count": 1,
   "metadata": {},
   "outputs": [
    {
     "name": "stderr",
     "output_type": "stream",
     "text": [
      "/home/nijso/anaconda3/lib/python3.7/site-packages/ipykernel_launcher.py:9: DeprecationWarning: This function is deprecated. Please call randint(0, 5000 + 1) instead\n",
      "  if __name__ == '__main__':\n",
      "/home/nijso/anaconda3/lib/python3.7/site-packages/ipykernel_launcher.py:10: DeprecationWarning: This function is deprecated. Please call randint(0, 5000 + 1) instead\n",
      "  # Remove the CWD from sys.path while we load stuff.\n"
     ]
    },
    {
     "data": {
      "text/plain": [
       "<Figure size 800x400 with 1 Axes>"
      ]
     },
     "metadata": {},
     "output_type": "display_data"
    },
    {
     "data": {
      "application/vnd.jupyter.widget-view+json": {
       "model_id": "33640f5d07074acaa15173ba89dcdb53",
       "version_major": 2,
       "version_minor": 0
      },
      "text/plain": [
       "interactive(children=(IntSlider(value=0, description='theta', max=180, min=-180, orientation='vertical', step=…"
      ]
     },
     "metadata": {},
     "output_type": "display_data"
    }
   ],
   "source": [
    "from ipywidgets import interact, fixed, IntSlider\n",
    "import numpy as np\n",
    "from matplotlib import pyplot as plt\n",
    "\n",
    "#%matplotlib notebook\n",
    "\n",
    "fig = plt.figure(figsize=(8,4))\n",
    "\n",
    "xs = np.random.random_integers(0, 5000, 50)\n",
    "ys = np.random.random_integers(0, 5000, 50)\n",
    "\n",
    "ax = fig.add_subplot(111)\n",
    "scat, = ax.plot(xs, ys, 'kx', markersize=1)\n",
    "ax.grid(which='both', color='.25', lw=.1)\n",
    "ax.set_aspect('equal'), ax.set_title('Rotate')\n",
    "\n",
    "def rotate(theta, xs, ys):\n",
    "    new_xs = xs * np.cos(np.deg2rad(theta)) - ys * np.sin(np.deg2rad(theta))\n",
    "    new_xs -= new_xs.min()\n",
    "    new_ys = xs * np.sin(np.deg2rad(theta)) + ys * np.cos(np.deg2rad(theta))\n",
    "    new_ys -= new_ys.min()\n",
    "    return new_xs, new_ys\n",
    "\n",
    "def update_plot(theta, xs, ys):\n",
    "    new_xs, new_ys = rotate(theta, xs, ys)\n",
    "    scat.set_xdata(new_xs), scat.set_ydata(new_ys)\n",
    "    ax.set_xlim(new_xs.min() - 500, new_xs.max() + 500)\n",
    "    ax.set_ylim(new_ys.min() - 500, new_ys.max() + 500)\n",
    "\n",
    "w = interact(update_plot, \n",
    "             theta=IntSlider(min=-180, max=180, step=5,value=0, orientation='vertical'), \n",
    "             xs=fixed(xs), \n",
    "             ys=fixed(ys))"
   ]
  },
  {
   "cell_type": "code",
   "execution_count": null,
   "metadata": {},
   "outputs": [],
   "source": []
  }
 ],
 "metadata": {
  "kernelspec": {
   "display_name": "Python 3",
   "language": "python",
   "name": "python3"
  },
  "language_info": {
   "codemirror_mode": {
    "name": "ipython",
    "version": 3
   },
   "file_extension": ".py",
   "mimetype": "text/x-python",
   "name": "python",
   "nbconvert_exporter": "python",
   "pygments_lexer": "ipython3",
   "version": "3.7.4"
  }
 },
 "nbformat": 4,
 "nbformat_minor": 4
}
