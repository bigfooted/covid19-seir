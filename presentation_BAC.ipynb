{
 "cells": [
  {
   "cell_type": "code",
   "execution_count": 1,
   "metadata": {},
   "outputs": [],
   "source": [
    "from IPython.display import Image,display\n",
    "from IPython.core.display import HTML \n",
    "import ipywidgets as widgets\n",
    "from ipywidgets import interact, fixed, IntSlider, HBox, Layout, Output, VBox, HTML,HTMLMath, FloatSlider\n",
    "\n",
    "import matplotlib.pyplot as plt\n",
    "from numpy import *\n",
    "from scipy import integrate\n",
    "#import pylab as p\n",
    "#import matplotlib.pyplot as p\n",
    "#import matplotlib.pyplot as plt\n",
    "import matplotlib.image as mpimg"
   ]
  },
  {
   "cell_type": "code",
   "execution_count": 2,
   "metadata": {},
   "outputs": [
    {
     "data": {
      "application/vnd.jupyter.widget-view+json": {
       "model_id": "6b1af2f8f3474fb781b6c6d5cce8b4e4",
       "version_major": 2,
       "version_minor": 0
      },
      "text/plain": [
       "HTML(value='\\n<style>\\nbody {\\n  counter-reset: section;                       /* Set a counter named \\'sectio…"
      ]
     },
     "metadata": {},
     "output_type": "display_data"
    }
   ],
   "source": [
    "HTML(\"\"\"\n",
    "<style>\n",
    "body {\n",
    "  counter-reset: section;                       /* Set a counter named 'section', and its initial value is 0. */\n",
    "}\n",
    ".container {\n",
    "  position: relative;\n",
    "  text-align: center;\n",
    "  color: white;\n",
    "}\n",
    "\n",
    ".bottom-left {\n",
    "  position: absolute;\n",
    "  bottom: 8px;\n",
    "  left: 16px;\n",
    "}\n",
    "\n",
    ".top-left {\n",
    "  position: absolute;\n",
    "  top: 8px;\n",
    "  left: 16px;\n",
    "}\n",
    "\n",
    ".top-right {\n",
    "  position: absolute;\n",
    "  top: 8px;\n",
    "  right: 16px;\n",
    "}\n",
    "\n",
    ".bottom-right {\n",
    "  position: absolute;\n",
    "  bottom: 8px;\n",
    "  right: 16px;\n",
    "}\n",
    "\n",
    ".centered {\n",
    "  position: absolute;\n",
    "  top: 50%;\n",
    "  left: 50%;\n",
    "  transform: translate(-50%, -50%);\n",
    "}\n",
    "\n",
    "\n",
    "\n",
    "h3::before {\n",
    "  counter-increment: section;                   /* Increment the value of section counter by 1 */\n",
    "  content: \"Section \" counter(section) \": \";    /* Display the word 'Section ', the value of \n",
    "                                                   section counter, and a colon before the content\n",
    "                                                   of each h3 */\n",
    "}\n",
    "</style>\n",
    "    \"\"\")\n"
   ]
  },
  {
   "cell_type": "markdown",
   "metadata": {},
   "source": [
    "The current situation in the world shows the importance of online and web-based learning. So instead of giving a presentation on how to solve a differential equation I will give a presentation about giving presentations, online and web-based, using jupyter labs.  "
   ]
  },
  {
   "cell_type": "markdown",
   "metadata": {},
   "source": [
    "<html>\n",
    "<body>   \n",
    "<table style=\"width:100%;height:600px\";>\n",
    "<tr>\n",
    "    <td style=\"background-color:#eeeeee;color:#5dade2;text-align:center\";>\n",
    "    <ul style=\"list-style-type:none;\">    \n",
    "        <li><img src=\"1200px-Jupyter_logo.svg.png\",height=300, width=300 ></li>\n",
    "        <li><font size=\"10\"><centering>Jupyter notebooks in the (virtual) classroom</centering></font></li>\n",
    "      </ul>  \n",
    "    </td>\n",
    "    <td style=\"background-color:#eeeeee;\">\n",
    "        <font size=\"5\">\n",
    "            What is jupyterlab?\n",
    "        <ul> \n",
    "            <li>Web based user interface for open source web applications</li>\n",
    "            <li>Create and share documents containing live code, equations, visualizations, etc</li>\n",
    "            <li>Interactive data manipulation and visualization</li>\n",
    "            <li>Tools for data analysis, programming, GUI creation, etc...</li>\n",
    "            <li>Support for different programming languages and kernels (native support for programs like matlab, CFD solvers,etc)</li>\n",
    "            <li>native $\\LaTeX$ support</li>\n",
    "        </ul>  \n",
    "        </font>    \n",
    "    </td>\n",
    "</tr>\n",
    "</table>\n",
    "</body>\n",
    "</html>    \n"
   ]
  },
  {
   "cell_type": "markdown",
   "metadata": {},
   "source": [
    "An example of the power of jupyterlabs: The predator-prey model (Lotka-Volterra equations). real-time numerical solution of the model, with user interaction possible by modifying the coefficients using the sliders"
   ]
  },
  {
   "cell_type": "code",
   "execution_count": 11,
   "metadata": {},
   "outputs": [
    {
     "data": {
      "application/vnd.jupyter.widget-view+json": {
       "model_id": "2fcdd6889a314a58a448e862a428286d",
       "version_major": 2,
       "version_minor": 0
      },
      "text/plain": [
       "interactive(children=(FloatSlider(value=1.0, description='a', max=2.0, min=0.1, step=0.05), FloatSlider(value=…"
      ]
     },
     "metadata": {},
     "output_type": "display_data"
    }
   ],
   "source": [
    "#!python\n",
    "# from: https://scipy-cookbook.readthedocs.io/items/LoktaVolterraTutorial.html\n",
    "\n",
    "#fig, (ax1,ax2) = plt.subplots(nrows=1, ncols=2, figsize=(12, 6))\n",
    "\n",
    "\n",
    "# Definition of parameters\n",
    "a = 1.\n",
    "b = 0.1\n",
    "c = 1.5\n",
    "d = 0.75\n",
    "\n",
    "#    def lotka_volterra(t, y):\n",
    "#            F = y[0]\n",
    "#            R = y[1]\n",
    "#            return [a*F - b*F*R, -c*R + d*b*F*R]\n",
    "#\n",
    "#    SIR_sol = solve_ivp(lotka_volterra, [0, size], [F_0,R_0], t_eval=np.arange(0, size, 0.1))\n",
    "#    fig = plt.figure()\n",
    "#    ax = plt.subplot(111)\n",
    "#    plt.rcParams[\"figure.figsize\"] = [12,12]\n",
    "#    plt.rcParams[\"axes.linewidth\"] = 2.0\n",
    "#    plt.rcParams['lines.linewidth'] = 5\n",
    "#    plt.rcParams['lines.markersize'] = 10\n",
    "#    plt.rcParams['lines.markeredgecolor'] = 'black'\n",
    "#    plt.rcParams['font.size'] = 16\n",
    "#    plt.rcParams['axes.labelsize'] = 16\n",
    "#    plt.rcParams['axes.labelweight'] = 'bold'\n",
    "#    plt.rcParams['xtick.labelsize'] = 14\n",
    "#    plt.rcParams['ytick.labelsize'] = 14\n",
    "#    plt.rcParams['legend.fontsize'] = 12\n",
    "#    plt.rcParams['figure.titlesize'] = 12\n",
    "#    plt.xlabel('time [weeks]')\n",
    "#    plt.ylabel('population')\n",
    "#    plt.grid(True)\n",
    "#    plt.plot(SIR_sol.t,SIR_sol.y[0],label='Foxes')\n",
    "#    plt.plot(SIR_sol.t,SIR_sol.y[1],label='Rabbits')\n",
    "#    ax.legend(loc='upper left', frameon=False)\n",
    "#    plt.show()\n",
    "\n",
    "\n",
    "# @ means its a decorator, functions are called implicitly\n",
    "@interact(a=widgets.FloatSlider(min=0.1, max=2, step=0.05, value=1.0),\n",
    "          b=widgets.FloatSlider(min=0.1, max=1, step=0.05, value=0.1),\n",
    "          c=widgets.FloatSlider(min=0.1, max=2, step=0.05, value=1.5),\n",
    "          d=widgets.FloatSlider(min=0.1, max=1, step=0.05, value=0.75))\n",
    "def lotkavolterrasol(a,b,c,d):\n",
    "    fig, (ax1,ax2) = plt.subplots(nrows=1, ncols=2, figsize=(12, 6))\n",
    "\n",
    "\n",
    "    \n",
    "    def dX_dt(X, t=0):\n",
    "        \"\"\" Return the growth rate of fox and rabbit populations. \"\"\"\n",
    "        return array([ a*X[0] -   b*X[0]*X[1] ,\n",
    "                      -c*X[1] + d*b*X[0]*X[1] ])\n",
    "    \n",
    "    #all(dX_dt(X_f0) == zeros(2) ) and all(dX_dt(X_f1) == zeros(2)) # => True\n",
    "    t = linspace(0, 15,  1000)              # time\n",
    "    X0 = array([10, 5])                     # initials conditions: 10 rabbits and 5 foxes\n",
    "    X, infodict = integrate.odeint(dX_dt, X0, t, full_output=True)\n",
    "    rabbits, foxes = X.T\n",
    "\n",
    "    ax1.grid()\n",
    "    ax1.set_title('Evolution of fox and rabbit populations',fontsize=18)\n",
    "    ax1.set_xlabel('time [months]', fontsize=15)\n",
    "    ax1.set_ylabel('population', fontsize=15)\n",
    "    ax1.plot(t, rabbits, 'r-', label='Rabbits')\n",
    "    ax1.plot(t, foxes  , 'b-', label='Foxes')\n",
    "    ax1.legend(loc='best')\n",
    "\n",
    "\n",
    "    # ---------------------------------------------------------\n",
    "\n",
    "    values  = linspace(0.3, 0.9, 5)                          # position of X0 between X_f0 and X_f1\n",
    "    vcolors = plt.cm.autumn_r(linspace(0.3, 1., len(values)))  # colors for each trajectory\n",
    "    #X_f0 = array([     0. ,  0.])\n",
    "    X_f1 = array([ c/(d*b), a/b])\n",
    "    \n",
    "    #------------------------------------------------------------------\n",
    "    # plot trajectories\n",
    "    for v, col in zip(values, vcolors):\n",
    "    #for v in zip(values):\n",
    "        X0 = v * X_f1                               # starting point\n",
    "        X = integrate.odeint( dX_dt, X0, t)         # we don't need infodict here\n",
    "        ax2.plot( X[:,0], X[:,1], lw=5.0, color=col, label='X0=(%.f, %.f)' % ( X0[0], X0[1]) )\n",
    "\n",
    "    #-------------------------------------------------------\n",
    "    # define a grid and compute direction at each point\n",
    "    ymax = 35 #plt.ylim(ymin=0)[1]                        # get axis limits\n",
    "    xmax = 60 #plt.xlim(xmin=0)[1]\n",
    "    nb_points   = 20\n",
    "\n",
    "    x = linspace(0, xmax, nb_points)\n",
    "    y = linspace(0, ymax, nb_points)\n",
    "\n",
    "    X1 , Y1  = meshgrid(x, y)                       # create a grid\n",
    "    DX1, DY1 = dX_dt([X1, Y1])                      # compute growth rate on the gridt\n",
    "    M = (hypot(DX1, DY1))                           # Norm of the growth rate \n",
    "    M[ M == 0] = 1.                                 # Avoid zero division errors \n",
    "    DX1 /= M                                        # Normalize each arrows\n",
    "    DY1 /= M\n",
    "\n",
    "    ax2.set_title('Trajectories and direction fields',fontsize=18)\n",
    "    ax2.set_xlabel('Number of rabbits', fontsize=15)\n",
    "    ax2.set_ylabel('Number of foxes',fontsize=15)\n",
    "    Q=ax2.quiver(X1, Y1, DX1, DY1, M, pivot='mid', cmap=plt.cm.jet)\n",
    "    #ax2.quiver(X1, Y1, DX1, DY1, M, pivot='mid')\n",
    "    #plt.show()\n",
    "    #-------------------------------------------------------\n",
    "    # recomputes distance between figures and prevents overlapping text on figures that are close to each other\n",
    "    fig.tight_layout()"
   ]
  },
  {
   "cell_type": "code",
   "execution_count": 108,
   "metadata": {},
   "outputs": [
    {
     "data": {
      "image/png": "[encoded data removed]",
      "text/plain": [
       "<Figure size 432x288 with 1 Axes>"
      ]
     },
     "metadata": {
      "needs_background": "light"
     },
     "output_type": "display_data"
    }
   ],
   "source": [
    "#!python\n",
    "def IF(X):\n",
    "    u, v = X\n",
    "    return u**(c/a) * v * exp( -(b/a)*(d*u+v) )\n",
    "# We will verify that IF remains constant for different trajectories\n",
    "for v in values:\n",
    "    X0 = v * X_f1                               # starting point\n",
    "    X = integrate.odeint( dX_dt, X0, t)\n",
    "    I = IF(X.T)                                 # compute IF along the trajectory\n",
    "    I_mean = I.mean()\n",
    "    delta = 100 * (I.max()-I.min())/I_mean\n",
    "    #print(\"X0=(%2.f,%2.f) => I ~ %.1f |delta = %.3G\",X0[0], X0[1], I_mean, delta)\n",
    "# >>> X0=( 6, 3) => I ~ 20.8 |delta = 6.19E-05 %\n",
    "#     X0=( 9, 4) => I ~ 39.4 |delta = 2.67E-05 %\n",
    "#     X0=(12, 6) => I ~ 55.7 |delta = 1.82E-05 %\n",
    "#     X0=(15, 8) => I ~ 66.8 |delta = 1.12E-05 %\n",
    "#     X0=(18, 9) => I ~ 72.4 |delta = 4.68E-06 %\n",
    "\n",
    "#!python\n",
    "#-------------------------------------------------------\n",
    "# plot iso contours\n",
    "nb_points = 80                              # grid size\n",
    "x = linspace(0, xmax, nb_points)\n",
    "y = linspace(0, ymax, nb_points)\n",
    "X2 , Y2  = meshgrid(x, y)                   # create the grid\n",
    "Z2 = IF([X2, Y2])                           # compute IF on each point\n",
    "f3 = p.figure()\n",
    "CS = p.contourf(X2, Y2, Z2, cmap=p.cm.Purples_r, alpha=0.5)\n",
    "CS2 = p.contour(X2, Y2, Z2, colors='black', linewidths=2. )\n",
    "p.clabel(CS2, inline=1, fontsize=16, fmt='%.f')\n",
    "p.grid()\n",
    "p.xlabel('Number of rabbits')\n",
    "p.ylabel('Number of foxes')\n",
    "p.ylim(1, ymax)\n",
    "p.xlim(1, xmax)\n",
    "p.title('IF contours')\n",
    "f3.savefig('rabbits_and_foxes_3.png')\n",
    "p.show()"
   ]
  },
  {
   "cell_type": "code",
   "execution_count": 109,
   "metadata": {},
   "outputs": [],
   "source": [
    "from IPython.display import clear_output\n",
    "def create_multipleChoice_widget(description, options, correct_answer):\n",
    "    if correct_answer not in options:\n",
    "        options.append(correct_answer)\n",
    "    \n",
    "    correct_answer_index = options.index(correct_answer)\n",
    "    \n",
    "    radio_options = [(words, i) for i, words in enumerate(options)]\n",
    "    alternativ = widgets.RadioButtons(\n",
    "        options = radio_options,\n",
    "        description = '',\n",
    "        disabled = False\n",
    "    )\n",
    "    \n",
    "    description_out = widgets.Output()\n",
    "    with description_out:\n",
    "        print(description)\n",
    "        \n",
    "    feedback_out = widgets.Output()\n",
    "\n",
    "    def check_selection(b):\n",
    "        a = int(alternativ.value)\n",
    "        if a==correct_answer_index:\n",
    "            s = '\\x1b[6;30;42m' + \"Correct!\" + '\\x1b[0m' +\"\\n\" #green color\n",
    "        else:\n",
    "            s = '\\x1b[5;30;41m' + \"No! Please try again!\" + '\\x1b[0m' +\"\\n\" #red color\n",
    "        with feedback_out:\n",
    "            clear_output()\n",
    "            print(s)\n",
    "        return\n",
    "    \n",
    "    check = widgets.Button(description=\"submit\")\n",
    "    check.on_click(check_selection)\n",
    "    \n",
    "    \n",
    "    return widgets.VBox([description_out, alternativ, check, feedback_out])\n",
    "    "
   ]
  },
  {
   "cell_type": "code",
   "execution_count": 138,
   "metadata": {},
   "outputs": [],
   "source": [
    "Q1 = create_multipleChoice_widget('What kind of figure is the figure above?',['A phase portrait','A Poincare map','A time series plot'],'A phase portrait')\n",
    "Q2 = create_multipleChoice_widget('What happens if more foxes are introduced?',['Rabbits and foxes go extinct','Occasional rabbit plagues','The foxes all starve'],'Occasional rabbit plagues')\n",
    "#Q2 = create_multipleChoice_widget('What happens if more foxes are introduced?',['Rabbits and foxes go extinct','Rabbit plagues ','Foxes will die'],'Rabbit plagues')\n",
    "Q3 = create_multipleChoice_widget('What type of point is the origin?',['A limit cycle','A saddle point','An equilibrium point'],'A saddle point')"
   ]
  },
  {
   "cell_type": "code",
   "execution_count": 139,
   "metadata": {},
   "outputs": [
    {
     "data": {
      "image/png": "[encoded data removed]",
      "text/plain": [
       "<Figure size 576x576 with 1 Axes>"
      ]
     },
     "metadata": {
      "needs_background": "light"
     },
     "output_type": "display_data"
    }
   ],
   "source": [
    "fig, ax = plt.subplots(figsize=(8,8))\n",
    "img = mpimg.imread('rabbits_and_foxes_2.png')\n",
    "imgplot = ax.imshow(img)\n",
    "Q=ax.axis('off')\n"
   ]
  },
  {
   "cell_type": "code",
   "execution_count": 140,
   "metadata": {},
   "outputs": [
    {
     "data": {
      "application/vnd.jupyter.widget-view+json": {
       "model_id": "5f0b7b60a8584d8392ff9491f8e956b7",
       "version_major": 2,
       "version_minor": 0
      },
      "text/plain": [
       "VBox(children=(Output(outputs=({'name': 'stdout', 'text': 'What kind of figure is the figure above?\\n', 'outpu…"
      ]
     },
     "metadata": {},
     "output_type": "display_data"
    },
    {
     "data": {
      "application/vnd.jupyter.widget-view+json": {
       "model_id": "2c2b92fbe22841929d5455a2c56f52f4",
       "version_major": 2,
       "version_minor": 0
      },
      "text/plain": [
       "VBox(children=(Output(outputs=({'name': 'stdout', 'text': 'What happens if more foxes are introduced?\\n', 'out…"
      ]
     },
     "metadata": {},
     "output_type": "display_data"
    },
    {
     "data": {
      "application/vnd.jupyter.widget-view+json": {
       "model_id": "65deb9bc9bb540afacd96ada6d4ddcc1",
       "version_major": 2,
       "version_minor": 0
      },
      "text/plain": [
       "VBox(children=(Output(outputs=({'name': 'stdout', 'text': 'What type of point is the origin?\\n', 'output_type'…"
      ]
     },
     "metadata": {},
     "output_type": "display_data"
    }
   ],
   "source": [
    "display(Q1)\n",
    "display(Q2)\n",
    "display(Q3)"
   ]
  },
  {
   "cell_type": "markdown",
   "metadata": {
    "slideshow": {
     "slide_type": "slide"
    }
   },
   "source": [
    "\n",
    "<html>\n",
    "<body>    \n",
    "\n",
    "<table style=\"width:100%;height:600px\";>\n",
    "<tr>\n",
    "    <td style=\"background-color:#eeeeee;color:#5dade2;text-align:center\";>\n",
    "        <font size=\"10\">\n",
    "        Jupyter labs in the classroom\n",
    "        </font>\n",
    "    </td>\n",
    "    <td style=\"background-color:#eeeeee;\">\n",
    "        <font size=\"5\">\n",
    "        <ul>\n",
    "            <li> written in python, with easy online notebooks</li>\n",
    "            <li>Online lecture notes and slides</li>\n",
    "            <li>interactive data manipulation and visualization</li>\n",
    "            <li>tools for data analysis, programming, GUI creation, etc...</li>\n",
    "        </ul>  \n",
    "        </font>    \n",
    "    </td>\n",
    "</tr>\n",
    "</table>\n",
    "</body>\n",
    "</html>    \n"
   ]
  },
  {
   "cell_type": "markdown",
   "metadata": {},
   "source": [
    "<html>\n",
    "<body>    \n",
    "<table style=\"width:100%;height:600px\";>\n",
    "<tr>\n",
    "    <td style=\"background-color:#eeeeee;color:#5dade2;text-align:center\";>\n",
    "        <font size=\"10\">\n",
    "        Nonlinear dynamics and control: systems of first order ODEs\n",
    "                   </font>\n",
    "    </td>\n",
    "    <td style=\"background-color:#eeeeee;\">\n",
    "        <font size=\"5\">\n",
    "        Background:\n",
    "        <ul>\n",
    "            <li>Ordinary differential equations $\\alpha$</li>\n",
    "            <li>Numerical methods</li>\n",
    "            <li>Transport Phenomena</li>\n",
    "        </ul>  \n",
    "        </font>    \n",
    "    </td>\n",
    "</tr>\n",
    "</table>\n",
    "</body>\n",
    "</html>    \n"
   ]
  },
  {
   "cell_type": "markdown",
   "metadata": {},
   "source": [
    "<html>\n",
    "<body>    \n",
    "\n",
    "<table style=\"width:100%;height:600px\";>\n",
    "<tr>\n",
    "    <td style=\"background-color:#eeeeee;color:#5dade2;text-align:center\";>\n",
    "        <font size=\"10\">\n",
    "          SIR model of a virus outbreak\n",
    "        </font>\n",
    "    </td>\n",
    "    <td style=\"background-color:#eeeeee;\">\n",
    "        <font size=\"5\">\n",
    "            The outbreak and spread of a contagious disease can be modeled by the SIR model:\n",
    "            <ul>\n",
    "            <li>  $S(t)$ : number of Susceptible persons (persons that are not infected or immune) </li>\n",
    "            <li>  $I(t)$ : number of Infected persons </li>\n",
    "            <li>  $R(t)$ : number of Recovered persons (immune) </li>\n",
    "            <li>  $N = S+I+R$ : total population </li>\n",
    "            <li>  $\\beta$ : infection rate </li>\n",
    "            <li>  $\\alpha$ : recovery rate </li>\n",
    "            </ul>\n",
    "            In this model, the total population size remains constant: nobody dies. Note that R can be also interpreted as the number of persons that are not ill anymore, either alive or dead.\n",
    "            </font>    \n",
    "    </td>\n",
    "</tr>\n",
    "</table>\n",
    "</body>\n",
    "</html>    \n",
    "\n"
   ]
  },
  {
   "cell_type": "markdown",
   "metadata": {},
   "source": [
    "<html>\n",
    "<body> \n",
    " <div class=\"container\">\n",
    "  <img src=\"coronavirus_cropped.jpg\" alt=\"corona\" style=\"width:100%;margin:-8px 0px\">\n",
    "   <div class=\"centered\">\n",
    "          <font size=\"10\">\n",
    "       SIR model of a virus outbreak\n",
    "              </font> \n",
    "     </div>\n",
    "</div> \n",
    "<!--\n",
    "    <img src=\"coronavirus_cropped.jpg\" border=3 style=\"width:99.6%;margin:0px 0px\"> \n",
    "    </img>\n",
    "-->\n",
    "<table style=\"width:100%;height:600px\";>\n",
    "<tr>\n",
    "    <td style=\"background-color:#eeeeee;color:#5dade2;text-align:center\";>\n",
    "        <font size=\"10\">\n",
    "            <!-- here an interactive image of the world with real-time infected cases??? choropleth map of the globe that can rotate and is colored with real-time data? -->\n",
    "            SIR model of a virus outbreak  <br>\n",
    "        </font> \n",
    "    </td>\n",
    "    <td style=\"background-color:#eeeeee;\">\n",
    "        <font size=\"5\">\n",
    "            Classic SIR model: \n",
    "            Kermack-McKendrick:<br>\n",
    "                $\\frac{dS}{dt}=-\\beta S I$<br>\n",
    "                $\\frac{dI}{dt}=\\beta S I - \\gamma I $<br>\n",
    "                $\\frac{dR}{dt}=\\gamma I$ <br>    \n",
    "            <ul>\n",
    "            <li>  $S(t)$ : number of Susceptible persons (persons that are not infected or immune) </li>\n",
    "            <li>  $I(t)$ : number of Infected persons </li>\n",
    "            <li>  $R(t)$ : number of Recovered persons (immune) </li>\n",
    "            <li>  $N = S+I+R$ : total population </li>\n",
    "            <li>  $\\beta$ : infection rate </li>\n",
    "            <li>  $\\alpha$ : recovery rate </li>\n",
    "            </ul>\n",
    "            In this model, the total population size remains constant: nobody dies. Note that R can be also interpreted as the number of persons that are not ill anymore, either alive or dead.\n",
    "            </font>    \n",
    "    </td>\n",
    "</tr>\n",
    "</table>\n",
    "</body>\n",
    "</html>    \n"
   ]
  },
  {
   "cell_type": "code",
   "execution_count": 149,
   "metadata": {},
   "outputs": [
    {
     "data": {
      "text/html": [
       "<body> \n",
       " <div class=\"container\">\n",
       "  <img src=\"coronavirus_cropped.jpg\" alt=\"corona\" style=\"width:100%;margin:-8px 0px\">\n",
       "   <div class=\"centered\">\n",
       "          <font size=\"10\">\n",
       "       SIR model of a virus outbreak\n",
       "              </font> \n",
       "     </div>\n",
       "</div> \n",
       "<!--\n",
       "    <img src=\"coronavirus_cropped.jpg\" border=3 style=\"width:99.6%;margin:0px 0px\"> \n",
       "    </img>\n",
       "-->\n",
       "<table style=\"width:100%;height:600px\";>\n",
       "<tr>\n",
       "    <td style=\"background-color:#eeeeee;color:#5dade2;text-align:center\";>\n",
       "        <font size=\"10\">\n",
       "            <!-- here an interactive image of the world with real-time infected cases??? choropleth map of the globe that can rotate and is colored with real-time data? -->\n",
       "            \n",
       "            \n",
       "            SIR model of a virus outbreak  <br>\n",
       "        </font> \n",
       "    </td>\n",
       "    <td style=\"background-color:#eeeeee;text-align:left\">\n",
       "        <font size=\"5\">\n",
       "            Classic SIR model: \n",
       "            Kermack-McKendrick:<br>\n",
       "                $\\frac{dS}{dt}=-\\beta S I$<br>\n",
       "                $\\frac{dI}{dt}=\\beta S I - \\gamma I $<br>\n",
       "                $\\frac{dR}{dt}=\\gamma I$ <br>    \n",
       "            <ul>\n",
       "            <li>  $S(t)$ : number of Susceptible persons (persons that are not infected or immune) </li>\n",
       "            <li>  $I(t)$ : number of Infected persons </li>\n",
       "            <li>  $R(t)$ : number of Recovered persons (immune) </li>\n",
       "            <li>  $N = S+I+R$ : total population </li>\n",
       "            <li>  $\\beta$ : infection rate </li>\n",
       "            <li>  $\\alpha$ : recovery rate </li>\n",
       "            </ul>\n",
       "            In this model, the total population size remains constant: nobody dies. Note that R can be also interpreted as the number of persons that are not ill anymore, either alive or dead.\n",
       "            </font>    \n",
       "    </td>\n",
       "</tr>\n",
       "</table>\n",
       "</body>   \n",
       "\n"
      ],
      "text/plain": [
       "<IPython.core.display.HTML object>"
      ]
     },
     "metadata": {},
     "output_type": "display_data"
    }
   ],
   "source": [
    "%%html\n",
    "<body> \n",
    " <div class=\"container\">\n",
    "  <img src=\"coronavirus_cropped.jpg\" alt=\"corona\" style=\"width:100%;margin:-8px 0px\">\n",
    "   <div class=\"centered\">\n",
    "          <font size=\"10\">\n",
    "       SIR model of a virus outbreak\n",
    "              </font> \n",
    "     </div>\n",
    "</div> \n",
    "<!--\n",
    "    <img src=\"coronavirus_cropped.jpg\" border=3 style=\"width:99.6%;margin:0px 0px\"> \n",
    "    </img>\n",
    "-->\n",
    "<table style=\"width:100%;height:600px\";>\n",
    "<tr>\n",
    "    <td style=\"background-color:#eeeeee;color:#5dade2;text-align:center\";>\n",
    "        <font size=\"10\">\n",
    "            <!-- here an interactive image of the world with real-time infected cases??? choropleth map of the globe that can rotate and is colored with real-time data? -->\n",
    "            \n",
    "            \n",
    "            SIR model of a virus outbreak  <br>\n",
    "        </font> \n",
    "    </td>\n",
    "    <td style=\"background-color:#eeeeee;text-align:left\">\n",
    "        <font size=\"5\">\n",
    "            Classic SIR model: \n",
    "            Kermack-McKendrick:<br>\n",
    "                $\\frac{dS}{dt}=-\\beta S I$<br>\n",
    "                $\\frac{dI}{dt}=\\beta S I - \\gamma I $<br>\n",
    "                $\\frac{dR}{dt}=\\gamma I$ <br>    \n",
    "            <ul>\n",
    "            <li>  $S(t)$ : number of Susceptible persons (persons that are not infected or immune) </li>\n",
    "            <li>  $I(t)$ : number of Infected persons </li>\n",
    "            <li>  $R(t)$ : number of Recovered persons (immune) </li>\n",
    "            <li>  $N = S+I+R$ : total population </li>\n",
    "            <li>  $\\beta$ : infection rate </li>\n",
    "            <li>  $\\alpha$ : recovery rate </li>\n",
    "            </ul>\n",
    "            In this model, the total population size remains constant: nobody dies. Note that R can be also interpreted as the number of persons that are not ill anymore, either alive or dead.\n",
    "            </font>    \n",
    "    </td>\n",
    "</tr>\n",
    "</table>\n",
    "</body>   \n",
    "\n"
   ]
  },
  {
   "cell_type": "code",
   "execution_count": 148,
   "metadata": {},
   "outputs": [
    {
     "data": {
      "text/html": [
       "<body> \n",
       " <div class=\"container\">\n",
       "  <img src=\"coronavirus_cropped.jpg\" alt=\"corona\" style=\"width:100%;margin:-8px 0px\">\n",
       "   <div class=\"centered\">\n",
       "          <font size=\"10\">\n",
       "       SIR model of a virus outbreak\n",
       "              </font> \n",
       "     </div>\n",
       "</div> \n",
       "\n",
       "\n",
       "<table style=\"width:100%;height:600px\";>\n",
       "<tr>\n",
       "    <td style=\"background-color:#eeeeee;color:#5dade2;text-align:center\";>\n",
       "        <font size=\"10\">\n",
       "            <!-- here an interactive image of the world with real-time infected cases??? choropleth map of the globe that can rotate and is colored with real-time data? -->\n",
       "            \n",
       "            \n",
       "            SIR model of a virus outbreak  <br>\n",
       "        </font> \n",
       "    </td>\n",
       "    <td style=\"background-color:#eeeeee;\">\n",
       "        <font size=\"5\">\n",
       "            Classic SIR model: \n",
       "            Kermack-McKendrick:<br>\n",
       "                $\\frac{dS}{dt}=-\\beta S I$<br>\n",
       "                $\\frac{dI}{dt}=\\beta S I - \\gamma I $<br>\n",
       "                $\\frac{dR}{dt}=\\gamma I$ <br>    \n",
       "            <ul>\n",
       "            <li>  $S(t)$ : number of Susceptible persons (persons that are not infected or immune) </li>\n",
       "            <li>  $I(t)$ : number of Infected persons </li>\n",
       "            <li>  $R(t)$ : number of Recovered persons (immune) </li>\n",
       "            <li>  $N = S+I+R$ : total population </li>\n",
       "            <li>  $\\beta$ : infection rate </li>\n",
       "            <li>  $\\alpha$ : recovery rate </li>\n",
       "            </ul>\n",
       "            In this model, the total population size remains constant: nobody dies. Note that R can be also interpreted as the number of persons that are not ill anymore, either alive or dead.\n",
       "            </font>    \n",
       "    </td>\n",
       "</tr>\n",
       "</table>\n",
       "</body>   \n"
      ],
      "text/plain": [
       "<IPython.core.display.HTML object>"
      ]
     },
     "metadata": {},
     "output_type": "display_data"
    }
   ],
   "source": [
    "%%html\n",
    "<body> \n",
    " <div class=\"container\">\n",
    "  <img src=\"coronavirus_cropped.jpg\" alt=\"corona\" style=\"width:100%;margin:-8px 0px\">\n",
    "   <div class=\"centered\">\n",
    "          <font size=\"10\">\n",
    "       SIR model of a virus outbreak\n",
    "              </font> \n",
    "     </div>\n",
    "</div> \n",
    "\n",
    "\n",
    "<table style=\"width:100%;height:600px\";>\n",
    "<tr>\n",
    "    <td style=\"background-color:#eeeeee;color:#5dade2;text-align:center\";>\n",
    "        <font size=\"10\">\n",
    "            <!-- here an interactive image of the world with real-time infected cases??? choropleth map of the globe that can rotate and is colored with real-time data? -->\n",
    "            \n",
    "            \n",
    "            SIR model of a virus outbreak  <br>\n",
    "        </font> \n",
    "    </td>\n",
    "    <td style=\"background-color:#eeeeee;\">\n",
    "        <font size=\"5\">\n",
    "            Classic SIR model: \n",
    "            Kermack-McKendrick:<br>\n",
    "                $\\frac{dS}{dt}=-\\beta S I$<br>\n",
    "                $\\frac{dI}{dt}=\\beta S I - \\gamma I $<br>\n",
    "                $\\frac{dR}{dt}=\\gamma I$ <br>    \n",
    "            <ul>\n",
    "            <li>  $S(t)$ : number of Susceptible persons (persons that are not infected or immune) </li>\n",
    "            <li>  $I(t)$ : number of Infected persons </li>\n",
    "            <li>  $R(t)$ : number of Recovered persons (immune) </li>\n",
    "            <li>  $N = S+I+R$ : total population </li>\n",
    "            <li>  $\\beta$ : infection rate </li>\n",
    "            <li>  $\\alpha$ : recovery rate </li>\n",
    "            </ul>\n",
    "            In this model, the total population size remains constant: nobody dies. Note that R can be also interpreted as the number of persons that are not ill anymore, either alive or dead.\n",
    "            </font>    \n",
    "    </td>\n",
    "</tr>\n",
    "</table>\n",
    "</body>   "
   ]
  },
  {
   "cell_type": "code",
   "execution_count": 150,
   "metadata": {
    "hide_input": false,
    "slideshow": {
     "slide_type": "slide"
    }
   },
   "outputs": [
    {
     "data": {
      "application/vnd.jupyter.widget-view+json": {
       "model_id": "ceff4c5e63604698a652f82890e5688f",
       "version_major": 2,
       "version_minor": 0
      },
      "text/plain": [
       "interactive(children=(FloatSlider(value=0.4, description='beta', max=2.0, min=0.1), FloatSlider(value=0.2, des…"
      ]
     },
     "metadata": {},
     "output_type": "display_data"
    }
   ],
   "source": [
    "#%matplotlib inline\n",
    "\n",
    "import matplotlib.pyplot as plt\n",
    "from ipywidgets import interact\n",
    "\n",
    "import ipywidgets as widgets\n",
    "\n",
    "import numpy as np\n",
    "import pandas as pd\n",
    "from scipy.integrate import solve_ivp\n",
    "from scipy.optimize import minimize\n",
    "import matplotlib as mpl\n",
    "#import matplotlib.pyplot as plt\n",
    "from datetime import timedelta, datetime\n",
    "# for nan\n",
    "#import math\n",
    "\n",
    "#S_0 = 15000\n",
    "#population size\n",
    "N = 1000000\n",
    "I_0 = 10\n",
    "R_0 = 0\n",
    "S_0 = N - I_0 - R_0\n",
    "\n",
    "# nr of points\n",
    "size=72\n",
    "\n",
    "\n",
    "# beta = transmission rate [number per day]\n",
    "beta = 0.4\n",
    "\n",
    "# gamma = 1/infectuous period = 1/T, T=5 days\n",
    "gamma = 0.2\n",
    "\n",
    "#R = beta/gamma\n",
    "\n",
    "\n",
    "#def f(x):\n",
    "#    return x\n",
    "#        \n",
    "##interact(f, x=widgets.IntSlider(min=-10, max=30, step=1, value=10));\n",
    "#interact(f, x=widgets.FloatSlider(min=0.4,max=0.6,step=0.01,value=0.5))\n",
    "\n",
    "# @ means its a decorator, functions are called implicitly\n",
    "@interact(beta=widgets.FloatSlider(min=0.1, max=2, step=0.1, value=0.4),gamma=widgets.FloatSlider(min=0.1, max=1, step=0.1, value=0.2))\n",
    "def sirsol(beta,gamma):\n",
    "\n",
    "    \n",
    "    def SIR(t, y):\n",
    "            S = y[0]\n",
    "            I = y[1]\n",
    "            R = y[2]\n",
    "            return [-beta*S*I/N, beta*S*I/N - gamma*I,gamma*I]\n",
    "\n",
    "    \n",
    "    #beta=n\n",
    "    SIR_sol = solve_ivp(SIR, [0, size], [S_0,I_0,R_0], t_eval=np.arange(0, size, 0.5))\n",
    "\n",
    "    #index = confirmed.index\n",
    "    #print(\"index = \",index)\n",
    "    #print \n",
    "    #x=np.arange(len(new_index))\n",
    "        \n",
    "    fig = plt.figure()\n",
    "    ax = plt.subplot(111)\n",
    "        \n",
    "    plt.rcParams[\"figure.figsize\"] = [12,12]\n",
    "    plt.rcParams[\"axes.linewidth\"] = 2.0\n",
    "    plt.rcParams['lines.linewidth'] = 5\n",
    "    plt.rcParams['lines.markersize'] = 10\n",
    "    plt.rcParams['lines.markeredgecolor'] = 'black'\n",
    "\n",
    "    plt.rcParams['font.size'] = 16\n",
    "    plt.rcParams['axes.labelsize'] = 16\n",
    "    plt.rcParams['axes.labelweight'] = 'bold'\n",
    "    plt.rcParams['xtick.labelsize'] = 14\n",
    "    plt.rcParams['ytick.labelsize'] = 14\n",
    "    plt.rcParams['legend.fontsize'] = 12\n",
    "    plt.rcParams['figure.titlesize'] = 12\n",
    "\n",
    "        \n",
    "    plt.xticks([0,7,14,21,28,35,42,49,56,63,70],['start outbreak','week 1','week 2','week 3','week 4','week 5','week 6','week 7','week 8','week 9','week 10'],rotation=45)\n",
    "       \n",
    "\n",
    "    plt.plot(SIR_sol.t,SIR_sol.y[0],label='Susceptible S')\n",
    "    #plt.plot(prediction.y[1],label='predicted exposed E')\n",
    "    plt.plot(SIR_sol.t,SIR_sol.y[1],label='Infected I')\n",
    "    plt.plot(SIR_sol.t,0.96*SIR_sol.y[2],label='Recovered R')\n",
    "    plt.plot(SIR_sol.t,0.04*SIR_sol.y[2],label='Deaths D')\n",
    "    ax.legend(loc='upper left', frameon=False)\n",
    "\n",
    "    plt.show()\n",
    "    \n",
    "    \n",
    "    \n"
   ]
  },
  {
   "cell_type": "code",
   "execution_count": 151,
   "metadata": {},
   "outputs": [
    {
     "data": {
      "application/vnd.jupyter.widget-view+json": {
       "model_id": "9a7acb143ac745cfb3a71820dc9ac806",
       "version_major": 2,
       "version_minor": 0
      },
      "text/plain": [
       "interactive(children=(FloatSlider(value=1.0, description='a', max=2.0, min=0.1, step=0.05), FloatSlider(value=…"
      ]
     },
     "metadata": {},
     "output_type": "display_data"
    }
   ],
   "source": [
    "import matplotlib.pyplot as plt\n",
    "from ipywidgets import interact\n",
    "import ipywidgets as widgets\n",
    "import numpy as np\n",
    "import pandas as pd\n",
    "from scipy.integrate import solve_ivp\n",
    "from scipy.optimize import minimize\n",
    "import matplotlib as mpl\n",
    "from datetime import timedelta, datetime\n",
    "\n",
    "F_0 = 5\n",
    "R_0 = 5\n",
    "\n",
    "# nr of points\n",
    "size=16\n",
    "\n",
    "#a = 0.4\n",
    "#b = 0.2\n",
    "#c=1\n",
    "#d=1\n",
    "\n",
    "# @ means its a decorator, functions are called implicitly\n",
    "@interact(a=widgets.FloatSlider(min=0.1, max=2, step=0.05, value=1.0),\n",
    "          b=widgets.FloatSlider(min=0.1, max=1, step=0.05, value=0.1),\n",
    "          c=widgets.FloatSlider(min=0.1, max=2, step=0.05, value=1.5),\n",
    "          d=widgets.FloatSlider(min=0.1, max=1, step=0.05, value=0.75))\n",
    "def sirsol(a,b,c,d):\n",
    "    def lotka_volterra(t, y):\n",
    "            F = y[0]\n",
    "            R = y[1]\n",
    "            return [a*F - b*F*R, -c*R + d*b*F*R]\n",
    "\n",
    "    \n",
    "    #beta=n\n",
    "    SIR_sol = solve_ivp(lotka_volterra, [0, size], [F_0,R_0], t_eval=np.arange(0, size, 0.1))\n",
    "\n",
    "      \n",
    "    fig = plt.figure()\n",
    "    ax = plt.subplot(111)\n",
    "        \n",
    "    plt.rcParams[\"figure.figsize\"] = [12,12]\n",
    "    plt.rcParams[\"axes.linewidth\"] = 2.0\n",
    "    plt.rcParams['lines.linewidth'] = 5\n",
    "    plt.rcParams['lines.markersize'] = 10\n",
    "    plt.rcParams['lines.markeredgecolor'] = 'black'\n",
    "\n",
    "    plt.rcParams['font.size'] = 16\n",
    "    plt.rcParams['axes.labelsize'] = 16\n",
    "    plt.rcParams['axes.labelweight'] = 'bold'\n",
    "    plt.rcParams['xtick.labelsize'] = 14\n",
    "    plt.rcParams['ytick.labelsize'] = 14\n",
    "    plt.rcParams['legend.fontsize'] = 12\n",
    "    plt.rcParams['figure.titlesize'] = 12\n",
    "    \n",
    "    plt.xlabel('time [weeks]')\n",
    "    plt.ylabel('population')\n",
    "    plt.grid(True)\n",
    "#    plt.xticks([0,7,14,21,28,35,42,49,56,63,70],['start outbreak','week 1','week 2','week 3','week 4','week 5','week 6','week 7','week 8','week 9','week 10'],rotation=45)\n",
    "       \n",
    "\n",
    "    plt.plot(SIR_sol.t,SIR_sol.y[0],label='Foxes')\n",
    "    plt.plot(SIR_sol.t,SIR_sol.y[1],label='Rabbits')\n",
    "    \n",
    "    ax.legend(loc='upper left', frameon=False)\n",
    "\n",
    "    plt.show()\n",
    "    "
   ]
  },
  {
   "cell_type": "markdown",
   "metadata": {},
   "source": [
    "next slide: comparing with data: pulldown list of all country data data. We find that a fit might be difficult"
   ]
  },
  {
   "cell_type": "markdown",
   "metadata": {},
   "source": [
    "next slide: fit of coefficients, realization that coefficients are changing in time. Fits take time to compute... do we want this realtime?"
   ]
  },
  {
   "cell_type": "markdown",
   "metadata": {},
   "source": [
    "next slide: "
   ]
  }
 ],
 "metadata": {
  "celltoolbar": "Edit Metadata",
  "hide_input": false,
  "kernelspec": {
   "display_name": "Python 3",
   "language": "python",
   "name": "python3"
  },
  "language_info": {
   "codemirror_mode": {
    "name": "ipython",
    "version": 3
   },
   "file_extension": ".py",
   "mimetype": "text/x-python",
   "name": "python",
   "nbconvert_exporter": "python",
   "pygments_lexer": "ipython3",
   "version": "3.7.4"
  },
  "latex_envs": {
   "LaTeX_envs_menu_present": true,
   "autoclose": false,
   "autocomplete": true,
   "bibliofile": "biblio.bib",
   "cite_by": "apalike",
   "current_citInitial": 1,
   "eqLabelWithNumbers": true,
   "eqNumInitial": 1,
   "hotkeys": {
    "equation": "Ctrl-E",
    "itemize": "Ctrl-I"
   },
   "labels_anchors": false,
   "latex_user_defs": false,
   "report_style_numbering": false,
   "user_envs_cfg": false
  },
  "varInspector": {
   "cols": {
    "lenName": 16,
    "lenType": 16,
    "lenVar": 40
   },
   "kernels_config": {
    "python": {
     "delete_cmd_postfix": "",
     "delete_cmd_prefix": "del ",
     "library": "var_list.py",
     "varRefreshCmd": "print(var_dic_list())"
    },
    "r": {
     "delete_cmd_postfix": ") ",
     "delete_cmd_prefix": "rm(",
     "library": "var_list.r",
     "varRefreshCmd": "cat(var_dic_list()) "
    }
   },
   "types_to_exclude": [
    "module",
    "function",
    "builtin_function_or_method",
    "instance",
    "_Feature"
   ],
   "window_display": false
  }
 },
 "nbformat": 4,
 "nbformat_minor": 4
}
