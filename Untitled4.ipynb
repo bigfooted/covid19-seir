{
 "cells": [
  {
   "cell_type": "code",
   "execution_count": 16,
   "metadata": {},
   "outputs": [
    {
     "data": {
      "application/vnd.jupyter.widget-view+json": {
       "model_id": "c80ade695d844f63aa6a240d605daa50",
       "version_major": 2,
       "version_minor": 0
      },
      "text/plain": [
       "HBox(children=(VBox(children=(IntSlider(value=0, description='x'), IntSlider(value=0, description='y'))), Text…"
      ]
     },
     "metadata": {},
     "output_type": "display_data"
    }
   ],
   "source": [
    "from ipywidgets import IntSlider\n",
    "from IPython.display import display\n",
    "from ipywidgets import interact, fixed, IntSlider, FloatSlider, HBox, Layout, Output, VBox, HTML,HTMLMath,Text\n",
    "\n",
    "textblock=\"bla\"\n",
    "\n",
    "x = IntSlider(description='x')\n",
    "y = IntSlider(description='y')\n",
    "\n",
    "def update_y(args):\n",
    "    x.value = args['new']\n",
    "    textblock=x.value\n",
    "    #print(args['new'])\n",
    "    #print(args)\n",
    "\n",
    "x.observe(update_y, 'value')\n",
    "\n",
    "textbox1=Text(\n",
    "    value=textblock\n",
    ")\n",
    "\n",
    "display(HBox([VBox([x,y]),textbox1]))\n",
    "#display(y)"
   ]
  },
  {
   "cell_type": "code",
   "execution_count": null,
   "metadata": {},
   "outputs": [],
   "source": []
  }
 ],
 "metadata": {
  "kernelspec": {
   "display_name": "Python 3",
   "language": "python",
   "name": "python3"
  },
  "language_info": {
   "codemirror_mode": {
    "name": "ipython",
    "version": 3
   },
   "file_extension": ".py",
   "mimetype": "text/x-python",
   "name": "python",
   "nbconvert_exporter": "python",
   "pygments_lexer": "ipython3",
   "version": "3.7.4"
  }
 },
 "nbformat": 4,
 "nbformat_minor": 4
}
