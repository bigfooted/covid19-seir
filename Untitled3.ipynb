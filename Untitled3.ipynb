{
 "cells": [
  {
   "cell_type": "code",
   "execution_count": 2,
   "metadata": {},
   "outputs": [],
   "source": [
    "from ipywidgets import Layout, Box, VBox, HBox, HTML, Image\n",
    "with open('coronavirus.jpg', 'rb') as f:\n",
    "    im_600_300 = f.read()"
   ]
  },
  {
   "cell_type": "code",
   "execution_count": 10,
   "metadata": {},
   "outputs": [],
   "source": [
    "fit_options = ['contain', 'cover', 'fill', 'scale-down', 'none', None]\n",
    "\n",
    "hbox_layout = Layout()\n",
    "hbox_layout.width = '100%'\n",
    "hbox_layout.justify_content = 'space-around'\n",
    "\n",
    "green_box_layout = Layout()\n",
    "green_box_layout.width = '100px'\n",
    "green_box_layout.height = '100px'\n",
    "green_box_layout.border = '2px solid green'\n",
    "\n",
    "\n",
    "def make_box_for_grid(image_widget, fit):\n",
    "    \"\"\"\n",
    "    Make a VBox to hold caption/image for demonstrating\n",
    "    option_fit values.\n",
    "    \"\"\"\n",
    "    # Make the caption\n",
    "    if fit is not None:\n",
    "        fit_str = \"'{}'\".format(fit)\n",
    "    else:\n",
    "        fit_str = str(fit)\n",
    "\n",
    "    h = HTML(value='' + str(fit_str) + '')\n",
    "    \n",
    "    # Make the green box with the image widget inside it\n",
    "    boxb = Box()\n",
    "    boxb.layout = green_box_layout\n",
    "    boxb.children = [h,image_widget]\n",
    "\n",
    "    # Compose into a vertical box\n",
    "    vb = VBox()\n",
    "    vb.layout.align_items = 'center'\n",
    "    # the title above, the image below\n",
    "    vb.children = [h, boxb]\n",
    "    return vb\n",
    "\n",
    "# Use this margin to eliminate space between the image and the box\n",
    "image_margin = '0 0 0 0'\n",
    "\n",
    "# Set size of captions in figures below\n",
    "caption_size = 'h4'"
   ]
  },
  {
   "cell_type": "code",
   "execution_count": 11,
   "metadata": {},
   "outputs": [
    {
     "data": {
      "application/vnd.jupyter.widget-view+json": {
       "model_id": "a0f7375bbba44b478370f0d570ab9b5f",
       "version_major": 2,
       "version_minor": 0
      },
      "text/plain": [
       "VBox(children=(HTML(value='<h4>Examples of <code>object_fit</code> with large image</h4>'), HBox(children=(VBo…"
      ]
     },
     "metadata": {},
     "output_type": "display_data"
    }
   ],
   "source": [
    "boxes = []\n",
    "for fit in fit_options:\n",
    "    ib = Image(value=im_600_300)\n",
    "    ib.layout.object_fit = fit\n",
    "    ib.layout.margin = image_margin\n",
    "\n",
    "    boxes.append(make_box_for_grid(ib, fit))\n",
    "\n",
    "vb = VBox()\n",
    "h = HTML(value='<{size}>Examples of <code>object_fit</code> with large image</{size}>'.format(size=caption_size))\n",
    "vb.layout.align_items = 'center'\n",
    "hb = HBox()\n",
    "hb.layout = hbox_layout\n",
    "hb.children = boxes\n",
    "\n",
    "vb.children = [h, hb]\n",
    "vb"
   ]
  },
  {
   "cell_type": "code",
   "execution_count": null,
   "metadata": {},
   "outputs": [],
   "source": []
  }
 ],
 "metadata": {
  "kernelspec": {
   "display_name": "Python 3",
   "language": "python",
   "name": "python3"
  },
  "language_info": {
   "codemirror_mode": {
    "name": "ipython",
    "version": 3
   },
   "file_extension": ".py",
   "mimetype": "text/x-python",
   "name": "python",
   "nbconvert_exporter": "python",
   "pygments_lexer": "ipython3",
   "version": "3.7.4"
  }
 },
 "nbformat": 4,
 "nbformat_minor": 4
}
