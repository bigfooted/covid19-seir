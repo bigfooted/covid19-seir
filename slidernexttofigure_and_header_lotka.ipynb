{
 "cells": [
  {
   "cell_type": "code",
   "execution_count": 22,
   "metadata": {},
   "outputs": [
    {
     "data": {
      "application/vnd.jupyter.widget-view+json": {
       "model_id": "ed8bfc918d5c4efcb9c10ef5517b008f",
       "version_major": 2,
       "version_minor": 0
      },
      "text/plain": [
       "HTML(value='\\n<style>\\n.container {\\n  position: relative;\\n  text-align: center;\\n  color: white;\\n}\\n</style…"
      ]
     },
     "metadata": {},
     "output_type": "display_data"
    }
   ],
   "source": [
    "HTML(\"\"\"\n",
    "<style>\n",
    ".container {\n",
    "  position: relative;\n",
    "  text-align: center;\n",
    "  color: white;\n",
    "}\n",
    "</style>\n",
    "    \"\"\")\n"
   ]
  },
  {
   "cell_type": "code",
   "execution_count": 61,
   "metadata": {},
   "outputs": [
    {
     "data": {
      "application/vnd.jupyter.widget-view+json": {
       "model_id": "8f4b495ed6d84b8582a74b5790eed2cc",
       "version_major": 2,
       "version_minor": 0
      },
      "text/plain": [
       "VBox(children=(HTML(value='\\n<div class=\"container\">\\n<img src=\"https://raw.githubusercontent.com/bigfooted/co…"
      ]
     },
     "metadata": {},
     "output_type": "display_data"
    }
   ],
   "source": [
    "from IPython.display import display, clear_output\n",
    "from ipywidgets import interact, fixed, IntSlider, FloatSlider, HBox, Layout, Output, VBox, HTML,HTMLMath\n",
    "import numpy as np \n",
    "import matplotlib.pyplot as plt\n",
    "from scipy import integrate\n",
    "from numpy import *\n",
    "\n",
    "%matplotlib inline\n",
    "\n",
    "\n",
    "xs = np.random.randint(0, 5000, 50) \n",
    "ys = np.random.randint(0, 5000, 50) \n",
    "# Definition of parameters\n",
    "a = 1.\n",
    "b = 0.1\n",
    "c = 1.5\n",
    "d = 0.75\n",
    "\n",
    "def rotate(theta, xs, ys):\n",
    "    new_xs = xs * np.cos(np.deg2rad(theta)) - ys * np.sin(np.deg2rad(theta))\n",
    "    new_xs -= new_xs.min()\n",
    "    new_ys = xs * np.sin(np.deg2rad(theta)) + ys * np.cos(np.deg2rad(theta))\n",
    "    new_ys -= new_ys.min()\n",
    "    return new_xs, new_ys\n",
    "\n",
    "#def dX_dt(X, t=0):\n",
    "#    \"\"\" Return the growth rate of fox and rabbit populations. \"\"\"\n",
    "#    return array([ a*X[0] -   b*X[0]*X[1] ,\n",
    "#                  -c*X[1] + d*b*X[0]*X[1] ])\n",
    "\n",
    "\n",
    "out = Output(layout={'width': '800px', 'height': '400px'})\n",
    "\n",
    "def update_plot(change): \n",
    "    theta = change['new'] # new slider value \n",
    "    with out: \n",
    "        clear_output(wait=True)\n",
    "        fig, (ax1,ax2) = plt.subplots(nrows=1, ncols=2, figsize=(12, 6))\n",
    "\n",
    "        def dX_dt(X, t=0):\n",
    "            \"\"\" Return the growth rate of fox and rabbit populations. \"\"\"\n",
    "            return array([ theta*X[0] -   b*X[0]*X[1] ,\n",
    "                          -c*X[1] + d*b*X[0]*X[1] ])\n",
    "        t = linspace(0, 15,  1000)              # time\n",
    "        X0 = array([10, 5])                     # initials conditions: 10 rabbits and 5 foxes\n",
    "        X, infodict = integrate.odeint(dX_dt, X0, t, full_output=True)\n",
    "        rabbits, foxes = X.T        #fig = plt.figure(figsize=(4,4))\n",
    "        \n",
    "        \n",
    "        #ax = fig.add_subplot(111)\n",
    "        scat, = ax1.plot(t, rabbits,'r-',label='rabbits')\n",
    "        scat, = ax1.plot(t, foxes,'b-',label='foxes')\n",
    "        ax1.legend(loc='best')\n",
    "        ax1.grid()\n",
    "        ax1.set_title('Evolution of fox and rabbit populations',fontsize=18)\n",
    "        ax1.set_xlabel('time [months]', fontsize=15)\n",
    "        ax1.set_ylabel('population', fontsize=15)\n",
    "        #scat, = ax.plot(xs, ys, 'kx', markersize=1)\n",
    "        \n",
    "        #ax.grid(which='both', color='.25', lw=.1)\n",
    "        #ax.set_aspect('equal'), \n",
    "        ax1.set_title('foxes and rabbits')\n",
    "        #new_xs, new_ys = rotate(theta, xs, ys) \n",
    "        #scat.set_xdata(new_xs), scat.set_ydata(new_ys)\n",
    "        #ax.set_xlim(new_xs.min() - 500, new_xs.max() + 500)\n",
    "        #ax.set_ylim(new_ys.min() - 500, new_ys.max() + 500)\n",
    "        \n",
    "        plt.show()\n",
    "\n",
    "\n",
    "   \n",
    "textbox = HTMLMath(\n",
    "value=\"this is $x_a = \\\\beta \\\\alpha$ text with $\\LaTeX$\"\n",
    ")\n",
    "    \n",
    "\n",
    "slider = FloatSlider(min=0.0, max=1.0, step=0.1, value=0.5, orientation='horizontal') \n",
    "slider.observe(update_plot, 'value')\n",
    "update_plot({'new': slider.value}) \n",
    "\n",
    "display(VBox([headertextbox,HBox([out, slider, textbox])]))"
   ]
  },
  {
   "cell_type": "code",
   "execution_count": null,
   "metadata": {},
   "outputs": [],
   "source": []
  }
 ],
 "metadata": {
  "kernelspec": {
   "display_name": "Python 3",
   "language": "python",
   "name": "python3"
  },
  "language_info": {
   "codemirror_mode": {
    "name": "ipython",
    "version": 3
   },
   "file_extension": ".py",
   "mimetype": "text/x-python",
   "name": "python",
   "nbconvert_exporter": "python",
   "pygments_lexer": "ipython3",
   "version": "3.7.4"
  }
 },
 "nbformat": 4,
 "nbformat_minor": 4
}
